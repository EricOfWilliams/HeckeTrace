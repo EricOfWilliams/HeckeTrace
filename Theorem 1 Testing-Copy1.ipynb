{
 "cells": [
  {
   "cell_type": "markdown",
   "metadata": {},
   "source": [
    "This is largely boiler plate code that computes the sequences we're interested in."
   ]
  },
  {
   "cell_type": "code",
   "execution_count": 1,
   "metadata": {},
   "outputs": [],
   "source": [
    "\"\"\"\n",
    "    We're going to use the proposition that gave Tr T_3 as a sum of three recurrent sequences.\n",
    "\"\"\"\n",
    "N = 3000\n",
    "a_k = [1, -2]\n",
    "b_k = [1, 1]\n",
    "c_k = [-1, 0, -9]\n",
    "\n",
    "for k in range(2, N):\n",
    "    a_k.append(-5 * a_k[k-1] - 9 * a_k[k-2])\n",
    "    b_k.append(-2 * b_k[k-1] - 9 * b_k[k-2])\n",
    "\n",
    "for k in range(3, 2 * N):\n",
    "    c_k.append(-27 * c_k[k-3])\n",
    "    \n",
    "# Prepare the rings we'll be using\n",
    "var(x)\n",
    "QQ_x.<x> = QQ[]"
   ]
  },
  {
   "cell_type": "markdown",
   "metadata": {},
   "source": [
    "This code checks the Theorem for $u_n := a_n + b_n$."
   ]
  },
  {
   "cell_type": "code",
   "execution_count": 11,
   "metadata": {},
   "outputs": [],
   "source": [
    "\"\"\"\n",
    "    Returns the \"special case sequence\" u_n := a_n + b_n.\n",
    "\"\"\"\n",
    "def u_n(n):\n",
    "    # Couple of error checks\n",
    "    if n < 0:\n",
    "        raise NotImplementedError(\"Negative values of n aren't implemented yet.\")\n",
    "    if n > N:\n",
    "        raise ValueError(\"n is too large! Try computing to a larger upper bound N.\")\n",
    "    \n",
    "    return a_k[n] + b_k[n]\n",
    "\n",
    "# Conjectured values that u_n takes on c for\n",
    "c = -1\n",
    "M = [1, 4]\n",
    "\n",
    "# Characteristic polynomial\n",
    "f = QQ_x((x^2 + 5 * x + 9) * (x^2 + 2 * x + 9))\n",
    "\n",
    "def check_roots_u_n(p, S, A):\n",
    "    # Create the p-adic numbers, cast f to a polynomial over \\Q_p\n",
    "    R = Qp(p)\n",
    "    fp = f.change_ring(R)\n",
    "    \n",
    "    # Check that the roots of f in \\Q_p are all nice\n",
    "    roots = fp.roots()\n",
    "    if len(roots) != 4:\n",
    "        print(\"The roots of f are not all in \\Q_p.\")\n",
    "        return False\n",
    "    \n",
    "    # Check that the powers of the roots congruent to A mod p\n",
    "    root_powers = [root[0]^S % p for root in roots]\n",
    "    if len(set(root_powers)) == 1:\n",
    "        print(\"When raised to the S, all roots are {} mod p\".format(root_powers[0]))\n",
    "        return True\n",
    "    else:\n",
    "        print(\"Powers of roots not all congruent mod p\")\n",
    "        return False\n",
    "\n",
    "    return True"
   ]
  },
  {
   "cell_type": "code",
   "execution_count": 12,
   "metadata": {
    "scrolled": true
   },
   "outputs": [
    {
     "ename": "TypeError",
     "evalue": "check_u_n() missing 1 required positional argument: 'A'",
     "output_type": "error",
     "traceback": [
      "\u001b[0;31m---------------------------------------------------------------------------\u001b[0m",
      "\u001b[0;31mTypeError\u001b[0m                                 Traceback (most recent call last)",
      "\u001b[0;32m<ipython-input-12-f74c668607a9>\u001b[0m in \u001b[0;36m<module>\u001b[0;34m\u001b[0m\n\u001b[0;32m----> 1\u001b[0;31m \u001b[0mcheck_u_n\u001b[0m\u001b[0;34m(\u001b[0m\u001b[0mInteger\u001b[0m\u001b[0;34m(\u001b[0m\u001b[0;36m59\u001b[0m\u001b[0;34m)\u001b[0m\u001b[0;34m,\u001b[0m \u001b[0mInteger\u001b[0m\u001b[0;34m(\u001b[0m\u001b[0;36m29\u001b[0m\u001b[0;34m)\u001b[0m\u001b[0;34m)\u001b[0m\u001b[0;34m\u001b[0m\u001b[0;34m\u001b[0m\u001b[0m\n\u001b[0m",
      "\u001b[0;31mTypeError\u001b[0m: check_u_n() missing 1 required positional argument: 'A'"
     ]
    }
   ],
   "source": [
    "check_u_n(59, 29)"
   ]
  },
  {
   "cell_type": "code",
   "execution_count": null,
   "metadata": {},
   "outputs": [],
   "source": []
  },
  {
   "cell_type": "code",
   "execution_count": 10,
   "metadata": {},
   "outputs": [],
   "source": [
    "\"\"\"\n",
    "    Returns Tr T_3(2k).\n",
    "\"\"\"\n",
    "def trace(two_k):\n",
    "    # Couple of error checks\n",
    "    if two_k % 2 == 1:\n",
    "        raise ValueError(\"'two_k' should be 2 * k, but given argument is odd.\")\n",
    "    if two_k < 0:\n",
    "        raise NotImplementedError(\"Negative values of k aren't implemented yet.\")\n",
    "    if two_k > 2 * N:\n",
    "        raise ValueError(\"k is too large! Try computing to a larger upper bound N.\")\n",
    "    \n",
    "    k = two_k // 2\n",
    "    return -1 - a_k[k-1] - b_k[k-1] + c_k[k-1]"
   ]
  },
  {
   "cell_type": "code",
   "execution_count": null,
   "metadata": {},
   "outputs": [],
   "source": []
  }
 ],
 "metadata": {
  "kernelspec": {
   "display_name": "SageMath 9.4",
   "language": "sage",
   "name": "sagemath-9.4"
  },
  "language_info": {
   "codemirror_mode": {
    "name": "ipython",
    "version": 3
   },
   "file_extension": ".py",
   "mimetype": "text/x-python",
   "name": "python",
   "nbconvert_exporter": "python",
   "pygments_lexer": "ipython3",
   "version": "3.9.5"
  }
 },
 "nbformat": 4,
 "nbformat_minor": 4
}
