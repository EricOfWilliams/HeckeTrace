{
 "cells": [
  {
   "cell_type": "code",
   "execution_count": 46,
   "metadata": {},
   "outputs": [
    {
     "data": {
      "text/plain": [
       "Univariate Polynomial Ring in x over Rational Field"
      ]
     },
     "execution_count": 46,
     "metadata": {},
     "output_type": "execute_result"
    }
   ],
   "source": [
    "var(x)\n",
    "QQ_x.<x> = QQ[]\n",
    "QQ_x"
   ]
  },
  {
   "cell_type": "code",
   "execution_count": 47,
   "metadata": {
    "scrolled": true
   },
   "outputs": [
    {
     "ename": "IndentationError",
     "evalue": "expected an indented block (<ipython-input-47-ddb34d4c3e56>, line 75)",
     "output_type": "error",
     "traceback": [
      "\u001b[0;36m  File \u001b[0;32m\"<ipython-input-47-ddb34d4c3e56>\"\u001b[0;36m, line \u001b[0;32m75\u001b[0m\n\u001b[0;31m    fp = f.change_ring(Qp(p))\u001b[0m\n\u001b[0m    ^\u001b[0m\n\u001b[0;31mIndentationError\u001b[0m\u001b[0;31m:\u001b[0m expected an indented block\n"
     ]
    }
   ],
   "source": [
    "\"\"\"\n",
    "    Test that the conditions of Theorem 1 are met\n",
    "    \n",
    "    Arguments:\n",
    "        u_n_coeff: Coefficients of the sequence u_n. If a_i := u_n_coeff[i-1], then we want:\n",
    "            $$ u_{n+k} = a_1 * u_{n+k-1} + ... + a_k * u_k $$\n",
    "        u_n_initial: Initial conditions of the sequence u_n.\n",
    "        \n",
    "        c: A rational number for which we are attempting to find all solutions n to u_n = c.\n",
    "        \n",
    "        p: An odd prime.\n",
    "        S: Positive integer such that \\omega_i^S \\equiv A (mod p) for each root \\omega_i of f (as p-adic numbers).\n",
    "        A: An integer such that \\omega_i^S \\equiv A (mod p) for each root \\omega_i of f (as p-adic numbers).\n",
    "        \n",
    "        M: The conjectured set of solutions to u_n = c.\n",
    "        P: A complete set of residues mod S (defaults to \\{0, 1, ..., S-1\\})\n",
    "        \n",
    "        precision: Precision to calculate p-adic roots to (defaults to 20)\n",
    "        verbose: Whether to print intermediate steps. Defaults to False.\n",
    "\"\"\"\n",
    "def theorem_1_test(u_n_coeff, u_n_initial, c, p, A, S, M, P = None, precision = 20, verbose = False):\n",
    "    \"\"\"\n",
    "        Check that everything is the right type\n",
    "    \"\"\"\n",
    "    # u_n is a recurrent sequence with rational coefficients and initial conditions\n",
    "    if len(u_n_coeff) != len(u_n_initial):\n",
    "        raise TypeError(\"Different number of coefficients and initial conditions given\")\n",
    "    for coeff in u_n_coeff:\n",
    "        if coeff not in QQ:\n",
    "            raise TypeError(\"Coefficients must be rational.\")\n",
    "    for initial in u_n_initial:\n",
    "        if initial not in QQ:\n",
    "            raise TypeError(\"Initial conditions must be rational.\")\n",
    "    \n",
    "    # c is a rational number with c \\nequiv 0 (mod p) or c = 0\n",
    "    if c not in QQ: \n",
    "        raise TypeError(\"c must be a rational number.\")\n",
    "    if mod(c, p) == 0 and c != 0:\n",
    "        raise ValueError(\"c must be non-zero in \\Z/p\\Z or equal to 0.\")\n",
    "    \n",
    "    # p is an odd prime\n",
    "    if p not in Primes() or p == 2:\n",
    "        raise TypeError(\"p must be an odd prime.\")\n",
    "    \n",
    "    # S is positive integer\n",
    "    if S not in ZZ or S <= 0:\n",
    "        raise TypeError(\"S must be a positive integer\")\n",
    "        \n",
    "    # A is an integer\n",
    "    if A not in ZZ:\n",
    "        raise TypeError(\"A must be an integer.\")\n",
    "    \n",
    "    # P defaults to the least residue system 0, 1, ... S-1\n",
    "    if P == None:\n",
    "        P = range(S)\n",
    "    # If P was provided, check that it's a complete system of residues\n",
    "    else:\n",
    "        if len({k % S for k in P}) != S:\n",
    "            TypeError(\"P must be a complete system of residues mod S.\")\n",
    "    \n",
    "    # Let user know that all tests were passed.\n",
    "    if verbose:\n",
    "        print(\"Initial tests passed.\")\n",
    "    \n",
    "    \"\"\"\n",
    "        Now we'll check the actual requirements of the theorem\n",
    "    \"\"\"\n",
    "    # Produce the characteristic polynomial f of u_n:\n",
    "    degree = len(u_n_coeff)\n",
    "    f = x^degree\n",
    "    for k in range(degree):\n",
    "        f -= u_n_coeff[k] * x^(degree)\n",
    "    \n",
    "    # Get the roots and coefficients of f in \\Q_p\n",
    "    fp = f.change_ring(Qp(p))\n",
    "    roots_p_adic = fp.roots()\n",
    "    coeff_p_adic = fp.coefficients(sparse = False)\n",
    "    \n",
    "    if abs(fp.discriminant) != 1:\n",
    "        print(\"Discriminant of f is not 1\")\n",
    "        return False\n",
    "    \n",
    "    # Ideally all roots of f should lie in Qp\n",
    "    if len(roots_p_adic) < fp.degree():\n",
    "        print(\"f does not have all roots in \\Q_p\")\n",
    "        return False\n",
    "    \n",
    "    \n",
    "    \n",
    "    \n",
    "    \n",
    "    \n",
    "    "
   ]
  },
  {
   "cell_type": "code",
   "execution_count": 32,
   "metadata": {},
   "outputs": [
    {
     "ename": "TypeError",
     "evalue": "p must be an odd prime.",
     "output_type": "error",
     "traceback": [
      "\u001b[0;31m---------------------------------------------------------------------------\u001b[0m",
      "\u001b[0;31mTypeError\u001b[0m                                 Traceback (most recent call last)",
      "\u001b[0;32m<ipython-input-32-a700ce7f23b7>\u001b[0m in \u001b[0;36m<module>\u001b[0;34m\u001b[0m\n\u001b[0;32m----> 1\u001b[0;31m \u001b[0mtheorem_1_test\u001b[0m\u001b[0;34m(\u001b[0m\u001b[0mInteger\u001b[0m\u001b[0;34m(\u001b[0m\u001b[0;36m0\u001b[0m\u001b[0;34m)\u001b[0m\u001b[0;34m,\u001b[0m \u001b[0mx\u001b[0m\u001b[0;34m**\u001b[0m\u001b[0mInteger\u001b[0m\u001b[0;34m(\u001b[0m\u001b[0;36m2\u001b[0m\u001b[0;34m)\u001b[0m \u001b[0;34m-\u001b[0m \u001b[0mInteger\u001b[0m\u001b[0;34m(\u001b[0m\u001b[0;36m3\u001b[0m\u001b[0;34m)\u001b[0m\u001b[0;34m,\u001b[0m \u001b[0mInteger\u001b[0m\u001b[0;34m(\u001b[0m\u001b[0;36m0\u001b[0m\u001b[0;34m)\u001b[0m\u001b[0;34m,\u001b[0m \u001b[0mInteger\u001b[0m\u001b[0;34m(\u001b[0m\u001b[0;36m0\u001b[0m\u001b[0;34m)\u001b[0m\u001b[0;34m,\u001b[0m \u001b[0mInteger\u001b[0m\u001b[0;34m(\u001b[0m\u001b[0;36m0\u001b[0m\u001b[0;34m)\u001b[0m\u001b[0;34m,\u001b[0m \u001b[0mInteger\u001b[0m\u001b[0;34m(\u001b[0m\u001b[0;36m0\u001b[0m\u001b[0;34m)\u001b[0m\u001b[0;34m,\u001b[0m \u001b[0mInteger\u001b[0m\u001b[0;34m(\u001b[0m\u001b[0;36m0\u001b[0m\u001b[0;34m)\u001b[0m\u001b[0;34m,\u001b[0m \u001b[0mInteger\u001b[0m\u001b[0;34m(\u001b[0m\u001b[0;36m0\u001b[0m\u001b[0;34m)\u001b[0m\u001b[0;34m)\u001b[0m\u001b[0;34m\u001b[0m\u001b[0;34m\u001b[0m\u001b[0m\n\u001b[0m",
      "\u001b[0;32m<ipython-input-31-8d54b764f560>\u001b[0m in \u001b[0;36mtheorem_1_test\u001b[0;34m(u_n, f, c, p, A, S, M, P, precision)\u001b[0m\n\u001b[1;32m     34\u001b[0m     \u001b[0;31m# p is an odd prime\u001b[0m\u001b[0;34m\u001b[0m\u001b[0;34m\u001b[0m\u001b[0;34m\u001b[0m\u001b[0m\n\u001b[1;32m     35\u001b[0m     \u001b[0;32mif\u001b[0m \u001b[0mp\u001b[0m \u001b[0;32mnot\u001b[0m \u001b[0;32min\u001b[0m \u001b[0mPrimes\u001b[0m\u001b[0;34m(\u001b[0m\u001b[0;34m)\u001b[0m \u001b[0;32mor\u001b[0m \u001b[0mp\u001b[0m \u001b[0;34m==\u001b[0m \u001b[0mInteger\u001b[0m\u001b[0;34m(\u001b[0m\u001b[0;36m2\u001b[0m\u001b[0;34m)\u001b[0m\u001b[0;34m:\u001b[0m\u001b[0;34m\u001b[0m\u001b[0;34m\u001b[0m\u001b[0m\n\u001b[0;32m---> 36\u001b[0;31m         \u001b[0;32mraise\u001b[0m \u001b[0mTypeError\u001b[0m\u001b[0;34m(\u001b[0m\u001b[0;34m\"p must be an odd prime.\"\u001b[0m\u001b[0;34m)\u001b[0m\u001b[0;34m\u001b[0m\u001b[0;34m\u001b[0m\u001b[0m\n\u001b[0m\u001b[1;32m     37\u001b[0m \u001b[0;34m\u001b[0m\u001b[0m\n\u001b[1;32m     38\u001b[0m     \u001b[0;31m# S is positive integer\u001b[0m\u001b[0;34m\u001b[0m\u001b[0;34m\u001b[0m\u001b[0;34m\u001b[0m\u001b[0m\n",
      "\u001b[0;31mTypeError\u001b[0m: p must be an odd prime."
     ]
    }
   ],
   "source": [
    "theorem_1_test(0, x^2 - 3, 0, 0, 0, 0, 0, 0)"
   ]
  },
  {
   "cell_type": "code",
   "execution_count": 34,
   "metadata": {},
   "outputs": [
    {
     "data": {
      "text/plain": [
       "Univariate Polynomial Ring in x over Rational Field"
      ]
     },
     "execution_count": 34,
     "metadata": {},
     "output_type": "execute_result"
    }
   ],
   "source": [
    "sum([x, x^2])"
   ]
  },
  {
   "cell_type": "code",
   "execution_count": null,
   "metadata": {},
   "outputs": [],
   "source": []
  }
 ],
 "metadata": {
  "kernelspec": {
   "display_name": "SageMath 9.4",
   "language": "sage",
   "name": "sagemath-9.4"
  },
  "language_info": {
   "codemirror_mode": {
    "name": "ipython",
    "version": 3
   },
   "file_extension": ".py",
   "mimetype": "text/x-python",
   "name": "python",
   "nbconvert_exporter": "python",
   "pygments_lexer": "ipython3",
   "version": "3.9.5"
  }
 },
 "nbformat": 4,
 "nbformat_minor": 4
}
