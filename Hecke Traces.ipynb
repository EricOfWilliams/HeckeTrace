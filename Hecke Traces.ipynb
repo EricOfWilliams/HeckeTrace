{
 "cells": [
  {
   "cell_type": "code",
   "execution_count": 1,
   "metadata": {},
   "outputs": [],
   "source": [
    "%matplotlib notebook\n",
    "\n",
    "from math import comb, log\n",
    "import matplotlib.pyplot as plt\n",
    "import numpy as np"
   ]
  },
  {
   "cell_type": "markdown",
   "metadata": {},
   "source": [
    "# Traces of the Hecke Operator $T_3$"
   ]
  },
  {
   "cell_type": "markdown",
   "metadata": {},
   "source": [
    "The following value of $N$ is the largest value of $k$ the notebook will attempt to compute."
   ]
  },
  {
   "cell_type": "code",
   "execution_count": 10,
   "metadata": {},
   "outputs": [],
   "source": [
    "N = 3000"
   ]
  },
  {
   "cell_type": "code",
   "execution_count": 11,
   "metadata": {},
   "outputs": [],
   "source": [
    "a_k = [1, -2]\n",
    "b_k = [1, 1]\n",
    "c_k = [-1, 0, -9]\n",
    "powers_of_2 = [1, 2]\n",
    "powers_of_3 = [1, 3]\n",
    "\n",
    "# Because of the upper bound we need to go to when computing, we need to compute these to a slightly larger value\n",
    "for k in range(2, 2 * N):\n",
    "    a_k.append(-5 * a_k[k-1] - 9 * a_k[k-2])\n",
    "    b_k.append(-2 * b_k[k-1] - 9 * b_k[k-2])\n",
    "    powers_of_2.append(2 * powers_of_2[k-1])\n",
    "    powers_of_3.append(3 * powers_of_3[k-1])\n",
    "\n",
    "for k in range(3, 2 * N):\n",
    "    c_k.append(-27 * c_k[k-3])"
   ]
  },
  {
   "cell_type": "code",
   "execution_count": 12,
   "metadata": {},
   "outputs": [],
   "source": [
    "binomial_coefficients = [[1]]\n",
    "for n in range(1, 2 * N):\n",
    "    last_row = binomial_coefficients[n-1]\n",
    "    left_append = [0] + last_row\n",
    "    right_append = last_row + [0]\n",
    "    binomial_coefficients.append([right_append[k] + left_append[k] for k in range(n+1)])"
   ]
  },
  {
   "cell_type": "code",
   "execution_count": 7,
   "metadata": {},
   "outputs": [],
   "source": [
    "def trace_3(two_k):\n",
    "    k = two_k // 2\n",
    "    total = 2 * pow(-3, k-2) - 1\n",
    "    for j in range(k):\n",
    "        if (j % 2 == 0):\n",
    "            summand = 1\n",
    "        else:\n",
    "            summand = -1\n",
    "            \n",
    "        summand *= comb(2 * k - 2 - j, j)\n",
    "        summand *= pow(3, j) + pow(3, j) * pow(2, 2 * k - 2 - 2 * j) + pow(3, 2 * k - 3 - j)\n",
    "        total -= summand\n",
    "    \n",
    "    return total\n",
    "\n",
    "def trace_3_fast(two_k):\n",
    "    k = two_k // 2\n",
    "    \n",
    "    # First term\n",
    "    total = 2 * powers_of_3[k-2]\n",
    "    if k % 2 == 1:\n",
    "        total *= -1\n",
    "    total -= 1\n",
    "    \n",
    "    # The alternating sum\n",
    "    for j in range(k):\n",
    "        if (j % 2 == 0):\n",
    "            summand = 1\n",
    "        else:\n",
    "            summand = -1\n",
    "\n",
    "        summand *= binomial_coefficients[2 * k - 2 - j][j]\n",
    "        summand *= powers_of_3[j] + powers_of_3[j] * powers_of_2[2 * k - 2 - 2 * j] + powers_of_3[2 * k - 3 - j]\n",
    "        total -= summand\n",
    "\n",
    "    return total"
   ]
  },
  {
   "cell_type": "code",
   "execution_count": 19,
   "metadata": {},
   "outputs": [],
   "source": [
    "traces = [trace_3_fast(2 * k) for k in range(2, N)]"
   ]
  },
  {
   "cell_type": "code",
   "execution_count": 14,
   "metadata": {},
   "outputs": [],
   "source": [
    "for k in range(2, N, 2):\n",
    "    try:\n",
    "        assert trace_3_fast(2 * k) == -1 - a_k[k-1] - b_k[k - 1] + c_k[k - 1]\n",
    "    except AssertionError:\n",
    "        print(\"k={} fails\".format(k))"
   ]
  },
  {
   "cell_type": "code",
   "execution_count": 17,
   "metadata": {},
   "outputs": [
    {
     "data": {
      "text/plain": [
       "x^8 + 6*x^7 + 21*x^6 + 62*x^5 + 180*x^4 + 486*x^3 + 945*x^2 + 486*x - 2187"
      ]
     },
     "execution_count": 17,
     "metadata": {},
     "output_type": "execute_result"
    }
   ],
   "source": [
    "expand((x^2 + 5 * x + 9) * (x^2 + 2 * x + 9) * (x^3 + 27) * (x - 1))"
   ]
  },
  {
   "cell_type": "code",
   "execution_count": 32,
   "metadata": {},
   "outputs": [],
   "source": [
    "for k in range(8, N-2):\n",
    "    try:\n",
    "        assert traces[k] == -6 * traces[k-1] - 21 * traces[k-2] - 62 * traces[k-3] - 180 * traces[k-4] - 486 * traces[k-5] - 945 * traces[k-6] - 486 * traces[k-7] + 2187 * traces[k-8]\n",
    "    except AssertionError:\n",
    "        print(\"k = {} fails\".format(k))"
   ]
  },
  {
   "cell_type": "code",
   "execution_count": null,
   "metadata": {},
   "outputs": [],
   "source": []
  }
 ],
 "metadata": {
  "kernelspec": {
   "display_name": "SageMath 9.4",
   "language": "sage",
   "name": "sagemath-9.4"
  },
  "language_info": {
   "codemirror_mode": {
    "name": "ipython",
    "version": 3
   },
   "file_extension": ".py",
   "mimetype": "text/x-python",
   "name": "python",
   "nbconvert_exporter": "python",
   "pygments_lexer": "ipython3",
   "version": "3.9.5"
  }
 },
 "nbformat": 4,
 "nbformat_minor": 4
}
